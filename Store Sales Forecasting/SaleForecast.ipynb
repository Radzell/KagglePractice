{
 "metadata": {
  "name": ""
 },
 "nbformat": 3,
 "nbformat_minor": 0,
 "worksheets": [
  {
   "cells": [
    {
     "cell_type": "code",
     "collapsed": false,
     "input": [
      "import matplotlib.pyplot as plt\n",
      "import pandas as pd\n",
      "import numpy as np\n",
      "from sklearn import datasets, svm, cross_validation\n",
      "from sklearn.preprocessing import Imputer\n",
      "import math\n",
      "from sklearn.cross_validation import ShuffleSplit\n",
      "from sklearn.metrics import accuracy_score"
     ],
     "language": "python",
     "metadata": {},
     "outputs": [
      {
       "output_type": "stream",
       "stream": "stderr",
       "text": [
        "/usr/local/lib/python2.7/dist-packages/pytz/__init__.py:29: UserWarning: Module dap was already imported from None, but /usr/lib/python2.7/dist-packages is being added to sys.path\n",
        "  from pkg_resources import resource_stream\n",
        "/usr/local/lib/python2.7/dist-packages/pytz/__init__.py:29: UserWarning: Module PIL was already imported from /usr/local/lib/python2.7/dist-packages/PIL/__init__.pyc, but /usr/lib/python2.7/dist-packages is being added to sys.path\n",
        "  from pkg_resources import resource_stream\n"
       ]
      }
     ],
     "prompt_number": 1
    },
    {
     "cell_type": "code",
     "collapsed": false,
     "input": [
      "ls"
     ],
     "language": "python",
     "metadata": {},
     "outputs": [
      {
       "output_type": "stream",
       "stream": "stdout",
       "text": [
        "features.csv        sampleSubmission.csv  test.csv\r\n",
        "SaleForecast.ipynb  stores.csv            train.csv\r\n"
       ]
      }
     ],
     "prompt_number": 2
    },
    {
     "cell_type": "raw",
     "metadata": {},
     "source": [
      "sampleSubmission.csv\n",
      "\n",
      "contains the week - Id and the weekly Sales - Weekly_Sales"
     ]
    },
    {
     "cell_type": "code",
     "collapsed": false,
     "input": [
      "sample_df = pd.read_csv(\"sampleSubmission.csv\")\n",
      "print sample_df\n",
      "print sample_df.head()"
     ],
     "language": "python",
     "metadata": {},
     "outputs": [
      {
       "output_type": "stream",
       "stream": "stdout",
       "text": [
        "<class 'pandas.core.frame.DataFrame'>\n",
        "Int64Index: 115064 entries, 0 to 115063\n",
        "Data columns (total 2 columns):\n",
        "Id              115064  non-null values\n",
        "Weekly_Sales    115064  non-null values\n",
        "dtypes: int64(1), object(1)\n",
        "               Id  Weekly_Sales\n",
        "0  1_1_2012-11-02             0\n",
        "1  1_1_2012-11-09             0\n",
        "2  1_1_2012-11-16             0\n",
        "3  1_1_2012-11-23             0\n",
        "4  1_1_2012-11-30             0\n"
       ]
      },
      {
       "output_type": "stream",
       "stream": "stderr",
       "text": [
        "/usr/local/lib/python2.7/dist-packages/pandas/core/config.py:570: DeprecationWarning: height has been deprecated.\n",
        "\n",
        "  warnings.warn(d.msg, DeprecationWarning)\n",
        "/usr/local/lib/python2.7/dist-packages/pandas/core/config.py:570: DeprecationWarning: height has been deprecated.\n",
        "\n",
        "  warnings.warn(d.msg, DeprecationWarning)\n"
       ]
      }
     ],
     "prompt_number": 3
    },
    {
     "cell_type": "raw",
     "metadata": {},
     "source": [
      "train.csv\n",
      "\n",
      "This is the historical training data, which covers to 2010-02-05 to 2012-11-01. Within this file you will find the following fields:\n",
      "\n",
      "Store - the store number\n",
      "Dept - the department number\n",
      "Date - the week\n",
      "Weekly_Sales -  sales for the given department in the given store\n",
      "IsHoliday - whether the week is a special holiday week"
     ]
    },
    {
     "cell_type": "code",
     "collapsed": false,
     "input": [
      "train_df = pd.read_csv(\"train.csv\",parse_dates=['Date'])\n",
      "print train_df"
     ],
     "language": "python",
     "metadata": {},
     "outputs": [
      {
       "output_type": "stream",
       "stream": "stdout",
       "text": [
        "<class 'pandas.core.frame.DataFrame'>\n",
        "Int64Index: 421570 entries, 0 to 421569\n",
        "Data columns (total 5 columns):\n",
        "Store           421570  non-null values\n",
        "Dept            421570  non-null values\n",
        "Date            421570  non-null values\n",
        "Weekly_Sales    421570  non-null values\n",
        "IsHoliday       421570  non-null values\n",
        "dtypes: bool(1), datetime64[ns](1), float64(1), int64(2)\n"
       ]
      },
      {
       "output_type": "stream",
       "stream": "stderr",
       "text": [
        "/usr/local/lib/python2.7/dist-packages/pandas/core/config.py:570: DeprecationWarning: height has been deprecated.\n",
        "\n",
        "  warnings.warn(d.msg, DeprecationWarning)\n"
       ]
      }
     ],
     "prompt_number": 4
    },
    {
     "cell_type": "raw",
     "metadata": {},
     "source": [
      "test.csv\n",
      "\n",
      "This file is identical to train.csv, except we have withheld the weekly sales. You must predict the sales for each triplet of store, department, and date in this file."
     ]
    },
    {
     "cell_type": "code",
     "collapsed": false,
     "input": [
      "test_df = pd.read_csv(\"test.csv\", parse_dates=['Date'])\n",
      "print test_df"
     ],
     "language": "python",
     "metadata": {},
     "outputs": [
      {
       "output_type": "stream",
       "stream": "stdout",
       "text": [
        "<class 'pandas.core.frame.DataFrame'>\n",
        "Int64Index: 115064 entries, 0 to 115063\n",
        "Data columns (total 4 columns):\n",
        "Store        115064  non-null values\n",
        "Dept         115064  non-null values\n",
        "Date         115064  non-null values\n",
        "IsHoliday    115064  non-null values\n",
        "dtypes: bool(1), datetime64[ns](1), int64(2)\n"
       ]
      },
      {
       "output_type": "stream",
       "stream": "stderr",
       "text": [
        "/usr/local/lib/python2.7/dist-packages/pandas/core/config.py:570: DeprecationWarning: height has been deprecated.\n",
        "\n",
        "  warnings.warn(d.msg, DeprecationWarning)\n"
       ]
      }
     ],
     "prompt_number": 5
    },
    {
     "cell_type": "raw",
     "metadata": {},
     "source": [
      "features.csv\n",
      "\n",
      "This file contains additional data related to the store, department, and regional activity for the given dates. It contains the following fields:\n",
      "\n",
      "Store - the store number\n",
      "Date - the week\n",
      "Temperature - average temperature in the region\n",
      "Fuel_Price - cost of fuel in the region\n",
      "MarkDown1-5 - anonymized data related to promotional markdowns that Walmart is running. MarkDown data is only available after Nov 2011, and is not available for all stores all the time. Any missing value is marked with an NA.\n",
      "CPI - the consumer price index\n",
      "Unemployment - the unemployment rate\n",
      "IsHoliday - whether the week is a special holiday week"
     ]
    },
    {
     "cell_type": "code",
     "collapsed": false,
     "input": [
      "features_df = pd.read_csv(\"features.csv\", parse_dates=['Date'])\n",
      "#fill in empty markdowns\n",
      "features_df['MarkDown1'].fillna(0, inplace=True)\n",
      "features_df['MarkDown2'].fillna(0, inplace=True)\n",
      "features_df['MarkDown3'].fillna(0, inplace=True)\n",
      "features_df['MarkDown4'].fillna(0, inplace=True)\n",
      "features_df['MarkDown5'].fillna(0, inplace=True)\n",
      "#fill CPI and unemployment with previous rows\n",
      "features_df['CPI'].fillna(method='ffill',inplace=True)\n",
      "features_df['Unemployment'].fillna(method='ffill',inplace=True)\n",
      "\n",
      "print features_df"
     ],
     "language": "python",
     "metadata": {},
     "outputs": [
      {
       "output_type": "stream",
       "stream": "stdout",
       "text": [
        "<class 'pandas.core.frame.DataFrame'>\n",
        "Int64Index: 8190 entries, 0 to 8189\n",
        "Data columns (total 12 columns):\n",
        "Store           8190  non-null values\n",
        "Date            8190  non-null values\n",
        "Temperature     8190  non-null values\n",
        "Fuel_Price      8190  non-null values\n",
        "MarkDown1       8190  non-null values\n",
        "MarkDown2       8190  non-null values\n",
        "MarkDown3       8190  non-null values\n",
        "MarkDown4       8190  non-null values\n",
        "MarkDown5       8190  non-null values\n",
        "CPI             8190  non-null values\n",
        "Unemployment    8190  non-null values\n",
        "IsHoliday       8190  non-null values\n",
        "dtypes: bool(1), datetime64[ns](1), float64(9), int64(1)\n"
       ]
      },
      {
       "output_type": "stream",
       "stream": "stderr",
       "text": [
        "/usr/local/lib/python2.7/dist-packages/pandas/core/config.py:570: DeprecationWarning: height has been deprecated.\n",
        "\n",
        "  warnings.warn(d.msg, DeprecationWarning)\n"
       ]
      }
     ],
     "prompt_number": 6
    },
    {
     "cell_type": "code",
     "collapsed": false,
     "input": [
      "resultColumns=['Id','Weekly_Sales']"
     ],
     "language": "python",
     "metadata": {},
     "outputs": [],
     "prompt_number": 7
    },
    {
     "cell_type": "code",
     "collapsed": false,
     "input": [
      "columns = ['Temperature','Fuel_Price','MarkDown1','MarkDown2','MarkDown3','MarkDown4','MarkDown5','CPI','Unemployment']\n",
      "target = ['Weekly_Sales']"
     ],
     "language": "python",
     "metadata": {},
     "outputs": [],
     "prompt_number": 8
    },
    {
     "cell_type": "heading",
     "level": 3,
     "metadata": {},
     "source": [
      "General Regression"
     ]
    },
    {
     "cell_type": "code",
     "collapsed": false,
     "input": [
      "train_dept_df = pd.merge(train_df, features_df, on=['Store','Date'])"
     ],
     "language": "python",
     "metadata": {},
     "outputs": [],
     "prompt_number": 9
    },
    {
     "cell_type": "code",
     "collapsed": false,
     "input": [
      "train_dept_df.head()"
     ],
     "language": "python",
     "metadata": {},
     "outputs": [
      {
       "output_type": "stream",
       "stream": "stderr",
       "text": [
        "/usr/local/lib/python2.7/dist-packages/pandas/core/config.py:570: DeprecationWarning: height has been deprecated.\n",
        "\n",
        "  warnings.warn(d.msg, DeprecationWarning)\n",
        "/usr/local/lib/python2.7/dist-packages/pandas/core/config.py:570: DeprecationWarning: height has been deprecated.\n",
        "\n",
        "  warnings.warn(d.msg, DeprecationWarning)\n",
        "/usr/local/lib/python2.7/dist-packages/pandas/core/config.py:570: DeprecationWarning: height has been deprecated.\n",
        "\n",
        "  warnings.warn(d.msg, DeprecationWarning)\n"
       ]
      },
      {
       "html": [
        "<div style=\"max-height:1000px;max-width:1500px;overflow:auto;\">\n",
        "<table border=\"1\" class=\"dataframe\">\n",
        "  <thead>\n",
        "    <tr style=\"text-align: right;\">\n",
        "      <th></th>\n",
        "      <th>Store</th>\n",
        "      <th>Dept</th>\n",
        "      <th>Date</th>\n",
        "      <th>Weekly_Sales</th>\n",
        "      <th>IsHoliday_x</th>\n",
        "      <th>Temperature</th>\n",
        "      <th>Fuel_Price</th>\n",
        "      <th>MarkDown1</th>\n",
        "      <th>MarkDown2</th>\n",
        "      <th>MarkDown3</th>\n",
        "      <th>MarkDown4</th>\n",
        "      <th>MarkDown5</th>\n",
        "      <th>CPI</th>\n",
        "      <th>Unemployment</th>\n",
        "      <th>IsHoliday_y</th>\n",
        "    </tr>\n",
        "  </thead>\n",
        "  <tbody>\n",
        "    <tr>\n",
        "      <th>0</th>\n",
        "      <td> 1</td>\n",
        "      <td> 1</td>\n",
        "      <td>2010-02-05 00:00:00</td>\n",
        "      <td> 24924.50</td>\n",
        "      <td> False</td>\n",
        "      <td> 42.31</td>\n",
        "      <td> 2.572</td>\n",
        "      <td> 0</td>\n",
        "      <td> 0</td>\n",
        "      <td> 0</td>\n",
        "      <td> 0</td>\n",
        "      <td> 0</td>\n",
        "      <td> 211.096358</td>\n",
        "      <td> 8.106</td>\n",
        "      <td> False</td>\n",
        "    </tr>\n",
        "    <tr>\n",
        "      <th>1</th>\n",
        "      <td> 1</td>\n",
        "      <td> 2</td>\n",
        "      <td>2010-02-05 00:00:00</td>\n",
        "      <td> 50605.27</td>\n",
        "      <td> False</td>\n",
        "      <td> 42.31</td>\n",
        "      <td> 2.572</td>\n",
        "      <td> 0</td>\n",
        "      <td> 0</td>\n",
        "      <td> 0</td>\n",
        "      <td> 0</td>\n",
        "      <td> 0</td>\n",
        "      <td> 211.096358</td>\n",
        "      <td> 8.106</td>\n",
        "      <td> False</td>\n",
        "    </tr>\n",
        "    <tr>\n",
        "      <th>2</th>\n",
        "      <td> 1</td>\n",
        "      <td> 3</td>\n",
        "      <td>2010-02-05 00:00:00</td>\n",
        "      <td> 13740.12</td>\n",
        "      <td> False</td>\n",
        "      <td> 42.31</td>\n",
        "      <td> 2.572</td>\n",
        "      <td> 0</td>\n",
        "      <td> 0</td>\n",
        "      <td> 0</td>\n",
        "      <td> 0</td>\n",
        "      <td> 0</td>\n",
        "      <td> 211.096358</td>\n",
        "      <td> 8.106</td>\n",
        "      <td> False</td>\n",
        "    </tr>\n",
        "    <tr>\n",
        "      <th>3</th>\n",
        "      <td> 1</td>\n",
        "      <td> 4</td>\n",
        "      <td>2010-02-05 00:00:00</td>\n",
        "      <td> 39954.04</td>\n",
        "      <td> False</td>\n",
        "      <td> 42.31</td>\n",
        "      <td> 2.572</td>\n",
        "      <td> 0</td>\n",
        "      <td> 0</td>\n",
        "      <td> 0</td>\n",
        "      <td> 0</td>\n",
        "      <td> 0</td>\n",
        "      <td> 211.096358</td>\n",
        "      <td> 8.106</td>\n",
        "      <td> False</td>\n",
        "    </tr>\n",
        "    <tr>\n",
        "      <th>4</th>\n",
        "      <td> 1</td>\n",
        "      <td> 5</td>\n",
        "      <td>2010-02-05 00:00:00</td>\n",
        "      <td> 32229.38</td>\n",
        "      <td> False</td>\n",
        "      <td> 42.31</td>\n",
        "      <td> 2.572</td>\n",
        "      <td> 0</td>\n",
        "      <td> 0</td>\n",
        "      <td> 0</td>\n",
        "      <td> 0</td>\n",
        "      <td> 0</td>\n",
        "      <td> 211.096358</td>\n",
        "      <td> 8.106</td>\n",
        "      <td> False</td>\n",
        "    </tr>\n",
        "  </tbody>\n",
        "</table>\n",
        "</div>"
       ],
       "metadata": {},
       "output_type": "pyout",
       "prompt_number": 10,
       "text": [
        "   Store  Dept                Date  Weekly_Sales IsHoliday_x  Temperature  \\\n",
        "0      1     1 2010-02-05 00:00:00      24924.50       False        42.31   \n",
        "1      1     2 2010-02-05 00:00:00      50605.27       False        42.31   \n",
        "2      1     3 2010-02-05 00:00:00      13740.12       False        42.31   \n",
        "3      1     4 2010-02-05 00:00:00      39954.04       False        42.31   \n",
        "4      1     5 2010-02-05 00:00:00      32229.38       False        42.31   \n",
        "\n",
        "   Fuel_Price  MarkDown1  MarkDown2  MarkDown3  MarkDown4  MarkDown5  \\\n",
        "0       2.572          0          0          0          0          0   \n",
        "1       2.572          0          0          0          0          0   \n",
        "2       2.572          0          0          0          0          0   \n",
        "3       2.572          0          0          0          0          0   \n",
        "4       2.572          0          0          0          0          0   \n",
        "\n",
        "          CPI  Unemployment IsHoliday_y  \n",
        "0  211.096358         8.106       False  \n",
        "1  211.096358         8.106       False  \n",
        "2  211.096358         8.106       False  \n",
        "3  211.096358         8.106       False  \n",
        "4  211.096358         8.106       False  "
       ]
      }
     ],
     "prompt_number": 10
    },
    {
     "cell_type": "code",
     "collapsed": false,
     "input": [
      "model = svm.SVR()\n",
      "score = cross_validation.cross_val_score(model, train_dept_df.ix[:,columns], train_dept_df['Weekly_Sales'], scoring='mean_squared_error')"
     ],
     "language": "python",
     "metadata": {},
     "outputs": [],
     "prompt_number": "*"
    },
    {
     "cell_type": "code",
     "collapsed": false,
     "input": [],
     "language": "python",
     "metadata": {},
     "outputs": []
    },
    {
     "cell_type": "code",
     "collapsed": false,
     "input": [
      "print len(features_df.index)\n",
      "print len(train_df.index)+2"
     ],
     "language": "python",
     "metadata": {},
     "outputs": [],
     "prompt_number": "*"
    },
    {
     "cell_type": "code",
     "collapsed": false,
     "input": [
      "len(train_df.index)"
     ],
     "language": "python",
     "metadata": {},
     "outputs": [
      {
       "metadata": {},
       "output_type": "pyout",
       "prompt_number": 136,
       "text": [
        "421570"
       ]
      }
     ],
     "prompt_number": 136
    },
    {
     "cell_type": "code",
     "collapsed": false,
     "input": [
      "len(features_df.index)"
     ],
     "language": "python",
     "metadata": {},
     "outputs": [
      {
       "metadata": {},
       "output_type": "pyout",
       "prompt_number": 137,
       "text": [
        "8190"
       ]
      }
     ],
     "prompt_number": 137
    },
    {
     "cell_type": "code",
     "collapsed": false,
     "input": [
      "pd.merge(train_df,features_df, on='Store')"
     ],
     "language": "python",
     "metadata": {},
     "outputs": []
    }
   ],
   "metadata": {}
  }
 ]
}