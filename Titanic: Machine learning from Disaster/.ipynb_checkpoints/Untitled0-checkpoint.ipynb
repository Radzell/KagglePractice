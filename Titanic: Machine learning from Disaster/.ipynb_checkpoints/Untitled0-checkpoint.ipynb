{
 "metadata": {
  "name": ""
 },
 "nbformat": 3,
 "nbformat_minor": 0,
 "worksheets": [
  {
   "cells": [
    {
     "cell_type": "code",
     "collapsed": false,
     "input": [
      "\n",
      "import matplotlib.pyplot as plt\n",
      "import pandas as pd\n",
      "import numpy as np\n",
      "from sklearn import datasets, svm\n",
      "from sklearn.preprocessing import Imputer\n",
      "import math\n",
      "from sklearn.cross_validation import ShuffleSplit\n",
      "from sklearn.metrics import accuracy_score\n"
     ],
     "language": "python",
     "metadata": {},
     "outputs": [
      {
       "output_type": "stream",
       "stream": "stderr",
       "text": [
        "/usr/local/lib/python2.7/dist-packages/pytz/__init__.py:29: UserWarning: Module dap was already imported from None, but /usr/lib/python2.7/dist-packages is being added to sys.path\n",
        "  from pkg_resources import resource_stream\n",
        "/usr/local/lib/python2.7/dist-packages/pytz/__init__.py:29: UserWarning: Module PIL was already imported from /usr/local/lib/python2.7/dist-packages/PIL/__init__.pyc, but /usr/lib/python2.7/dist-packages is being added to sys.path\n",
        "  from pkg_resources import resource_stream\n"
       ]
      }
     ],
     "prompt_number": 1
    },
    {
     "cell_type": "code",
     "collapsed": false,
     "input": [
      "ls"
     ],
     "language": "python",
     "metadata": {},
     "outputs": [
      {
       "output_type": "stream",
       "stream": "stdout",
       "text": [
        "gendermodel.csv  test.csv   train.sublime-project    Untitled0.ipynb\r\n",
        "gendermodel.py   train.csv  train.sublime-workspace\r\n"
       ]
      }
     ],
     "prompt_number": 2
    },
    {
     "cell_type": "code",
     "collapsed": false,
     "input": [
      "columns = ['Pclass','Sex','Age','SibSp','Parch','Ticket','Fare','Cabin','Embarked']"
     ],
     "language": "python",
     "metadata": {},
     "outputs": [],
     "prompt_number": 3
    },
    {
     "cell_type": "code",
     "collapsed": false,
     "input": [
      "columns = ['Pclass','Sex','Age','SibSp','Parch'];"
     ],
     "language": "python",
     "metadata": {},
     "outputs": [],
     "prompt_number": 4
    },
    {
     "cell_type": "code",
     "collapsed": false,
     "input": [
      "#columns = ['Fare','Age']"
     ],
     "language": "python",
     "metadata": {},
     "outputs": [],
     "prompt_number": 5
    },
    {
     "cell_type": "code",
     "collapsed": false,
     "input": [
      "train_df = pd.read_csv(\"train.csv\")\n",
      "#vectorize training data\n",
      "train_df['Sex']=train_df[\"Sex\"].apply(lambda sex: 0 if sex == \"male\" else 1)\n",
      "\n",
      "#fills in the na's\n",
      "#and int columns won't have NaNs else they would be upcast to float.\n",
      "for col in train_df:\n",
      "    dt = train_df[col].dtype\n",
      "    \n",
      "    #fill in Nana\n",
      "    if dt== float:\n",
      "        train_df[col].fillna(train_df[col].mean(), inplace=True)\n",
      "    #normalize data\n",
      "    if dt==float or dt==int:    \n",
      "        train_df[col] -= train_df[col].max()/2\n",
      "        train_df[col] /=max( train_df[col].max(),math.fabs(train_df[col].max()))"
     ],
     "language": "python",
     "metadata": {},
     "outputs": [],
     "prompt_number": 7
    },
    {
     "cell_type": "code",
     "collapsed": false,
     "input": [
      "train_df.ix[:,columns].head()"
     ],
     "language": "python",
     "metadata": {},
     "outputs": [
      {
       "output_type": "stream",
       "stream": "stderr",
       "text": [
        "/usr/local/lib/python2.7/dist-packages/pandas/core/config.py:570: DeprecationWarning: height has been deprecated.\n",
        "\n",
        "  warnings.warn(d.msg, DeprecationWarning)\n",
        "/usr/local/lib/python2.7/dist-packages/pandas/core/config.py:570: DeprecationWarning: height has been deprecated.\n",
        "\n",
        "  warnings.warn(d.msg, DeprecationWarning)\n"
       ]
      },
      {
       "html": [
        "<div style=\"max-height:1000px;max-width:1500px;overflow:auto;\">\n",
        "<table border=\"1\" class=\"dataframe\">\n",
        "  <thead>\n",
        "    <tr style=\"text-align: right;\">\n",
        "      <th></th>\n",
        "      <th>Pclass</th>\n",
        "      <th>Sex</th>\n",
        "      <th>Age</th>\n",
        "      <th>SibSp</th>\n",
        "      <th>Parch</th>\n",
        "    </tr>\n",
        "  </thead>\n",
        "  <tbody>\n",
        "    <tr>\n",
        "      <th>0</th>\n",
        "      <td> 1</td>\n",
        "      <td> 0</td>\n",
        "      <td>-0.450</td>\n",
        "      <td>-1</td>\n",
        "      <td>-1</td>\n",
        "    </tr>\n",
        "    <tr>\n",
        "      <th>1</th>\n",
        "      <td> 0</td>\n",
        "      <td> 1</td>\n",
        "      <td>-0.050</td>\n",
        "      <td>-1</td>\n",
        "      <td>-1</td>\n",
        "    </tr>\n",
        "    <tr>\n",
        "      <th>2</th>\n",
        "      <td> 1</td>\n",
        "      <td> 1</td>\n",
        "      <td>-0.350</td>\n",
        "      <td>-1</td>\n",
        "      <td>-1</td>\n",
        "    </tr>\n",
        "    <tr>\n",
        "      <th>3</th>\n",
        "      <td> 0</td>\n",
        "      <td> 1</td>\n",
        "      <td>-0.125</td>\n",
        "      <td>-1</td>\n",
        "      <td>-1</td>\n",
        "    </tr>\n",
        "    <tr>\n",
        "      <th>4</th>\n",
        "      <td> 1</td>\n",
        "      <td> 0</td>\n",
        "      <td>-0.125</td>\n",
        "      <td>-1</td>\n",
        "      <td>-1</td>\n",
        "    </tr>\n",
        "  </tbody>\n",
        "</table>\n",
        "</div>"
       ],
       "metadata": {},
       "output_type": "pyout",
       "prompt_number": 8,
       "text": [
        "   Pclass  Sex    Age  SibSp  Parch\n",
        "0       1    0 -0.450     -1     -1\n",
        "1       0    1 -0.050     -1     -1\n",
        "2       1    1 -0.350     -1     -1\n",
        "3       0    1 -0.125     -1     -1\n",
        "4       1    0 -0.125     -1     -1"
       ]
      }
     ],
     "prompt_number": 8
    },
    {
     "cell_type": "code",
     "collapsed": false,
     "input": [
      "test_df = pd.read_csv(\"test.csv\")\n",
      "#vectorize training data\n",
      "test_df['Sex']=test_df[\"Sex\"].apply(lambda sex: 0 if sex == \"male\" else 1)\n",
      "\n",
      "#fills in the na's\n",
      "#and int columns won't have NaNs else they would be upcast to float.\n",
      "for col in test_df:\n",
      "    dt = test_df[col].dtype\n",
      "    if col == 'PassengerId':\n",
      "        print col\n",
      "    #fill in nan\n",
      "    if dt== float:\n",
      "        test_df[col].fillna(test_df[col].mean(), inplace=True)\n",
      "    #normalize data\n",
      "    if (dt==float or dt==int) and col != 'PassengerId':    \n",
      "        test_df[col]-=test_df[col].max()/2\n",
      "        test_df[col] /=max( test_df[col].max(),math.fabs(test_df[col].max()))"
     ],
     "language": "python",
     "metadata": {},
     "outputs": [
      {
       "output_type": "stream",
       "stream": "stdout",
       "text": [
        "PassengerId\n"
       ]
      }
     ],
     "prompt_number": 22
    },
    {
     "cell_type": "code",
     "collapsed": false,
     "input": [
      "test_df.head()"
     ],
     "language": "python",
     "metadata": {},
     "outputs": [
      {
       "output_type": "stream",
       "stream": "stderr",
       "text": [
        "/usr/local/lib/python2.7/dist-packages/pandas/core/config.py:570: DeprecationWarning: height has been deprecated.\n",
        "\n",
        "  warnings.warn(d.msg, DeprecationWarning)\n"
       ]
      },
      {
       "html": [
        "<pre>\n",
        "&lt;class 'pandas.core.frame.DataFrame'&gt;\n",
        "Int64Index: 418 entries, 0 to 417\n",
        "Data columns (total 11 columns):\n",
        "PassengerId    418  non-null values\n",
        "Pclass         418  non-null values\n",
        "Name           418  non-null values\n",
        "Sex            418  non-null values\n",
        "Age            418  non-null values\n",
        "SibSp          418  non-null values\n",
        "Parch          418  non-null values\n",
        "Ticket         418  non-null values\n",
        "Fare           418  non-null values\n",
        "Cabin          91  non-null values\n",
        "Embarked       418  non-null values\n",
        "dtypes: float64(2), int64(5), object(4)\n",
        "</pre>"
       ],
       "metadata": {},
       "output_type": "pyout",
       "prompt_number": 23,
       "text": [
        "<class 'pandas.core.frame.DataFrame'>\n",
        "Int64Index: 418 entries, 0 to 417\n",
        "Data columns (total 11 columns):\n",
        "PassengerId    418  non-null values\n",
        "Pclass         418  non-null values\n",
        "Name           418  non-null values\n",
        "Sex            418  non-null values\n",
        "Age            418  non-null values\n",
        "SibSp          418  non-null values\n",
        "Parch          418  non-null values\n",
        "Ticket         418  non-null values\n",
        "Fare           418  non-null values\n",
        "Cabin          91  non-null values\n",
        "Embarked       418  non-null values\n",
        "dtypes: float64(2), int64(5), object(4)"
       ]
      }
     ],
     "prompt_number": 23
    },
    {
     "cell_type": "code",
     "collapsed": false,
     "input": [
      "#create a list of the types of kerneks we will use for your analysis\n",
      "types_of_kernels = ['linear', 'rbf', 'poly']\n",
      "\n",
      "\n",
      "# specify our color map for plotting the results\n",
      "color_map = plt.cm.RdBu_r\n",
      "\n",
      "for fig_num, kernel in enumerate(types_of_kernels):\n",
      "    \n",
      "    \n",
      "    # fit the model\n",
      "    clf = svm.SVC(kernel=kernel, gamma=3)\n",
      "    clf.fit(train_df.ix[:,columns],train_df['Survived'])\n",
      "\n",
      "   \n",
      "    plt.figure(fig_num)\n",
      "\n",
      "    plt.scatter(train_df[columns[0]], train_df[columns[1]], c=train_df['Survived'], zorder=10, cmap=color_map)\n",
      "\n",
      "    # Circle out the test data\n",
      "    plt.scatter(test_df[columns[0]], test_df[columns[1]], s=80, facecolors='none', zorder=10)\n",
      "\n",
      "    plt.axis('tight')\n",
      "    x_min = train_df[columns[0]].min()\n",
      "    x_max = train_df[columns[0]].max()\n",
      "    y_min = train_df[columns[1]].min()\n",
      "    y_max = train_df[columns[1]].max()\n",
      "\n",
      "    XX, YY = np.mgrid[x_min:x_max:200j, y_min:y_max:200j]\n",
      "    Z = clf.decision_function(np.c_[XX.ravel(), YY.ravel()])\n",
      "\n",
      "    # Put the result into a color plot\n",
      "    Z = Z.reshape(XX.shape)\n",
      "    plt.pcolormesh(XX, YY, Z > 0, cmap=color_map)\n",
      "    plt.contour(XX, YY, Z, colors=['k', 'k', 'k'], linestyles=['--', '-', '--'],\n",
      "               levels=[-.5, 0, .5])\n",
      "    \n",
      "    plt.title(kernel)\n",
      "    plt.show()"
     ],
     "language": "python",
     "metadata": {},
     "outputs": [],
     "prompt_number": 172
    },
    {
     "cell_type": "code",
     "collapsed": false,
     "input": [
      "minimum={\"error\":1,\"model\":\"\"}\n",
      "error_rate=0\n",
      "types_of_kernels = ['linear', 'rbf', 'poly']\n",
      "model=\"\"\n",
      "#create crossvalidation sets to test for accurancy\n",
      "cv =ShuffleSplit(len(train_df.index), train_size=300,test_size=None)\n",
      "for traincv, testcv in cv:\n",
      "    for fig_num, kernel in enumerate(types_of_kernels):\n",
      "        print kernel\n",
      "        if kernel == 'linear':\n",
      "            for i in range(1,10):\n",
      "                # fit the model\n",
      "                clf = svm.SVC(kernel=kernel, degree=i,gamma=3)\n",
      "                model = clf.fit(train_df.ix[:,columns],train_df['Survived'])\n",
      "                \n",
      "                 #predict the test set\n",
      "                y_pred = clf.predict(train_df.ix[testcv,columns])\n",
      "                y_test = train_df.ix[testcv,'Survived']\n",
      "                accuracy = accuracy_score(y_test, y_pred)\n",
      "                error_rate =  1-accuracy\n",
      "                if error_rate < minimum['error']:\n",
      "                    minimum['error']=error_rate\n",
      "                    minimum['model']=model\n",
      "        if kernel == 'poly':\n",
      "            for i in range(1,10):\n",
      "                # fit the model\n",
      "                clf = svm.SVC(kernel=kernel, degree=i,gamma=3)\n",
      "                model = clf.fit(train_df.ix[:,columns],train_df['Survived'])\n",
      "                \n",
      "                 #predict the test set\n",
      "                y_pred = clf.predict(train_df.ix[testcv,columns])\n",
      "                y_test = train_df.ix[testcv,'Survived']\n",
      "                accuracy = accuracy_score(y_test, y_pred)\n",
      "                error_rate =  1-accuracy\n",
      "                if error_rate < minimum['error']:\n",
      "                    minimum['error']=error_rate\n",
      "                    minimum['model']=model\n",
      "        if kernel == 'rbf':\n",
      "            for i in range(1,10):\n",
      "                # fit the model\n",
      "                clf = svm.SVC(kernel=kernel, degree=3,gamma=i)\n",
      "                model = clf.fit(train_df.ix[:,columns],train_df['Survived'])\n",
      "                \n",
      "                 #predict the test set\n",
      "                y_pred = clf.predict(train_df.ix[testcv,columns])\n",
      "                y_test = train_df.ix[testcv,'Survived']\n",
      "                accuracy = accuracy_score(y_test, y_pred)\n",
      "                error_rate =  1-accuracy\n",
      "                if error_rate < minimum['error']:\n",
      "                    minimum['error']=error_rate\n",
      "                    minimum['model']=model\n",
      "        print minimum\n"
     ],
     "language": "python",
     "metadata": {},
     "outputs": [
      {
       "output_type": "stream",
       "stream": "stdout",
       "text": [
        "linear\n",
        "{'model': SVC(C=1.0, cache_size=200, class_weight=None, coef0=0.0, degree=1, gamma=3,\n",
        "  kernel='linear', max_iter=-1, probability=False, random_state=None,\n",
        "  shrinking=True, tol=0.001, verbose=False), 'error': 0.20812182741116747}"
       ]
      },
      {
       "output_type": "stream",
       "stream": "stdout",
       "text": [
        "\n",
        "rbf\n",
        "{'model': SVC(C=1.0, cache_size=200, class_weight=None, coef0=0.0, degree=3, gamma=3,\n",
        "  kernel='rbf', max_iter=-1, probability=False, random_state=None,\n",
        "  shrinking=True, tol=0.001, verbose=False), 'error': 0.18443316412859556}"
       ]
      },
      {
       "ename": "KeyboardInterrupt",
       "evalue": "",
       "output_type": "pyerr",
       "traceback": [
        "\u001b[1;31m---------------------------------------------------------------------------\u001b[0m\n\u001b[1;31mKeyboardInterrupt\u001b[0m                         Traceback (most recent call last)",
        "\u001b[1;32m<ipython-input-12-2a3c5263d9cc>\u001b[0m in \u001b[0;36m<module>\u001b[1;34m()\u001b[0m\n\u001b[0;32m     26\u001b[0m                 \u001b[1;31m# fit the model\u001b[0m\u001b[1;33m\u001b[0m\u001b[1;33m\u001b[0m\u001b[0m\n\u001b[0;32m     27\u001b[0m                 \u001b[0mclf\u001b[0m \u001b[1;33m=\u001b[0m \u001b[0msvm\u001b[0m\u001b[1;33m.\u001b[0m\u001b[0mSVC\u001b[0m\u001b[1;33m(\u001b[0m\u001b[0mkernel\u001b[0m\u001b[1;33m=\u001b[0m\u001b[0mkernel\u001b[0m\u001b[1;33m,\u001b[0m \u001b[0mdegree\u001b[0m\u001b[1;33m=\u001b[0m\u001b[0mi\u001b[0m\u001b[1;33m,\u001b[0m\u001b[0mgamma\u001b[0m\u001b[1;33m=\u001b[0m\u001b[1;36m3\u001b[0m\u001b[1;33m)\u001b[0m\u001b[1;33m\u001b[0m\u001b[0m\n\u001b[1;32m---> 28\u001b[1;33m                 \u001b[0mmodel\u001b[0m \u001b[1;33m=\u001b[0m \u001b[0mclf\u001b[0m\u001b[1;33m.\u001b[0m\u001b[0mfit\u001b[0m\u001b[1;33m(\u001b[0m\u001b[0mtrain_df\u001b[0m\u001b[1;33m.\u001b[0m\u001b[0mix\u001b[0m\u001b[1;33m[\u001b[0m\u001b[1;33m:\u001b[0m\u001b[1;33m,\u001b[0m\u001b[0mcolumns\u001b[0m\u001b[1;33m]\u001b[0m\u001b[1;33m,\u001b[0m\u001b[0mtrain_df\u001b[0m\u001b[1;33m[\u001b[0m\u001b[1;34m'Survived'\u001b[0m\u001b[1;33m]\u001b[0m\u001b[1;33m)\u001b[0m\u001b[1;33m\u001b[0m\u001b[0m\n\u001b[0m\u001b[0;32m     29\u001b[0m \u001b[1;33m\u001b[0m\u001b[0m\n\u001b[0;32m     30\u001b[0m                  \u001b[1;31m#predict the test set\u001b[0m\u001b[1;33m\u001b[0m\u001b[1;33m\u001b[0m\u001b[0m\n",
        "\u001b[1;32m/usr/local/lib/python2.7/dist-packages/sklearn/svm/base.pyc\u001b[0m in \u001b[0;36mfit\u001b[1;34m(self, X, y, sample_weight)\u001b[0m\n\u001b[0;32m    176\u001b[0m \u001b[1;33m\u001b[0m\u001b[0m\n\u001b[0;32m    177\u001b[0m         \u001b[0mseed\u001b[0m \u001b[1;33m=\u001b[0m \u001b[0mrnd\u001b[0m\u001b[1;33m.\u001b[0m\u001b[0mrandint\u001b[0m\u001b[1;33m(\u001b[0m\u001b[0mnp\u001b[0m\u001b[1;33m.\u001b[0m\u001b[0miinfo\u001b[0m\u001b[1;33m(\u001b[0m\u001b[1;34m'i'\u001b[0m\u001b[1;33m)\u001b[0m\u001b[1;33m.\u001b[0m\u001b[0mmax\u001b[0m\u001b[1;33m)\u001b[0m\u001b[1;33m\u001b[0m\u001b[0m\n\u001b[1;32m--> 178\u001b[1;33m         \u001b[0mfit\u001b[0m\u001b[1;33m(\u001b[0m\u001b[0mX\u001b[0m\u001b[1;33m,\u001b[0m \u001b[0my\u001b[0m\u001b[1;33m,\u001b[0m \u001b[0msample_weight\u001b[0m\u001b[1;33m,\u001b[0m \u001b[0msolver_type\u001b[0m\u001b[1;33m,\u001b[0m \u001b[0mkernel\u001b[0m\u001b[1;33m,\u001b[0m \u001b[0mrandom_seed\u001b[0m\u001b[1;33m=\u001b[0m\u001b[0mseed\u001b[0m\u001b[1;33m)\u001b[0m\u001b[1;33m\u001b[0m\u001b[0m\n\u001b[0m\u001b[0;32m    179\u001b[0m         \u001b[1;31m# see comment on the other call to np.iinfo in this file\u001b[0m\u001b[1;33m\u001b[0m\u001b[1;33m\u001b[0m\u001b[0m\n\u001b[0;32m    180\u001b[0m \u001b[1;33m\u001b[0m\u001b[0m\n",
        "\u001b[1;32m/usr/local/lib/python2.7/dist-packages/sklearn/svm/base.pyc\u001b[0m in \u001b[0;36m_dense_fit\u001b[1;34m(self, X, y, sample_weight, solver_type, kernel, random_seed)\u001b[0m\n\u001b[0;32m    231\u001b[0m                 \u001b[0mcache_size\u001b[0m\u001b[1;33m=\u001b[0m\u001b[0mself\u001b[0m\u001b[1;33m.\u001b[0m\u001b[0mcache_size\u001b[0m\u001b[1;33m,\u001b[0m \u001b[0mcoef0\u001b[0m\u001b[1;33m=\u001b[0m\u001b[0mself\u001b[0m\u001b[1;33m.\u001b[0m\u001b[0mcoef0\u001b[0m\u001b[1;33m,\u001b[0m\u001b[1;33m\u001b[0m\u001b[0m\n\u001b[0;32m    232\u001b[0m                 \u001b[0mgamma\u001b[0m\u001b[1;33m=\u001b[0m\u001b[0mself\u001b[0m\u001b[1;33m.\u001b[0m\u001b[0m_gamma\u001b[0m\u001b[1;33m,\u001b[0m \u001b[0mepsilon\u001b[0m\u001b[1;33m=\u001b[0m\u001b[0mself\u001b[0m\u001b[1;33m.\u001b[0m\u001b[0mepsilon\u001b[0m\u001b[1;33m,\u001b[0m\u001b[1;33m\u001b[0m\u001b[0m\n\u001b[1;32m--> 233\u001b[1;33m                 max_iter=self.max_iter, random_seed=random_seed)\n\u001b[0m\u001b[0;32m    234\u001b[0m \u001b[1;33m\u001b[0m\u001b[0m\n\u001b[0;32m    235\u001b[0m         \u001b[0mself\u001b[0m\u001b[1;33m.\u001b[0m\u001b[0m_warn_from_fit_status\u001b[0m\u001b[1;33m(\u001b[0m\u001b[1;33m)\u001b[0m\u001b[1;33m\u001b[0m\u001b[0m\n",
        "\u001b[1;31mKeyboardInterrupt\u001b[0m: "
       ]
      },
      {
       "output_type": "stream",
       "stream": "stdout",
       "text": [
        "\n",
        "poly\n"
       ]
      }
     ],
     "prompt_number": 12
    },
    {
     "cell_type": "code",
     "collapsed": false,
     "input": [
      "minimum"
     ],
     "language": "python",
     "metadata": {},
     "outputs": [],
     "prompt_number": "*"
    },
    {
     "cell_type": "code",
     "collapsed": false,
     "input": [
      "import sklearn.ensemble\n",
      "#create crossvalidation sets to test for accurancy\n",
      "cv =ShuffleSplit(len(train_df.index), train_size=300,test_size=None)\n",
      "for traincv, testcv in cv:\n",
      "    # fit the model\n",
      "    clf = sklearn.ensemble.ExtraTreesClassifier(n_estimators=100, max_depth=None, min_samples_split=1, random_state=0)\n",
      "    #clf = svm.SVC(kernel=kernel, degree=3,gamma=3)\n",
      "    clf.fit(train_df.ix[:,columns],train_df['Survived'])\n",
      "    \n",
      "     #predict the test set\n",
      "    y_preds = clf.predict(train_df.ix[testcv,columns])\n",
      "    y_test = train_df.ix[testcv,'Survived']\n",
      "    accuracy = accuracy_score(y_test, y_pred)\n",
      "    error_rate =  1-accuracy\n",
      "    print '{} error rate {}'.format(kernel,error_rate)"
     ],
     "language": "python",
     "metadata": {},
     "outputs": [
      {
       "output_type": "stream",
       "stream": "stdout",
       "text": [
        "poly error rate 0.424703891709\n",
        "poly error rate 0.438240270728"
       ]
      },
      {
       "output_type": "stream",
       "stream": "stdout",
       "text": [
        "\n",
        "poly error rate 0.46192893401"
       ]
      },
      {
       "output_type": "stream",
       "stream": "stdout",
       "text": [
        "\n",
        "poly error rate 0.433164128596"
       ]
      },
      {
       "output_type": "stream",
       "stream": "stdout",
       "text": [
        "\n",
        "poly error rate 0.473773265651"
       ]
      },
      {
       "output_type": "stream",
       "stream": "stdout",
       "text": [
        "\n",
        "poly error rate 0.424703891709"
       ]
      },
      {
       "output_type": "stream",
       "stream": "stdout",
       "text": [
        "\n",
        "poly error rate 0.46192893401"
       ]
      },
      {
       "output_type": "stream",
       "stream": "stdout",
       "text": [
        "\n",
        "poly error rate 0.43654822335"
       ]
      },
      {
       "output_type": "stream",
       "stream": "stdout",
       "text": [
        "\n",
        "poly error rate 0.44331641286"
       ]
      },
      {
       "output_type": "stream",
       "stream": "stdout",
       "text": [
        "\n",
        "poly error rate 0.465313028765"
       ]
      },
      {
       "output_type": "stream",
       "stream": "stdout",
       "text": [
        "\n"
       ]
      },
      {
       "output_type": "stream",
       "stream": "stdout",
       "text": [
        "poly error rate 0.426395939086\n",
        "poly error rate 0.429780033841"
       ]
      },
      {
       "output_type": "stream",
       "stream": "stdout",
       "text": [
        "\n",
        "poly error rate 0.465313028765"
       ]
      },
      {
       "output_type": "stream",
       "stream": "stdout",
       "text": [
        "\n",
        "poly error rate 0.423011844332"
       ]
      },
      {
       "output_type": "stream",
       "stream": "stdout",
       "text": [
        "\n",
        "poly error rate 0.483925549915"
       ]
      },
      {
       "output_type": "stream",
       "stream": "stdout",
       "text": [
        "\n",
        "poly error rate 0.46192893401"
       ]
      },
      {
       "output_type": "stream",
       "stream": "stdout",
       "text": [
        "\n",
        "poly error rate 0.458544839255"
       ]
      },
      {
       "output_type": "stream",
       "stream": "stdout",
       "text": [
        "\n",
        "poly error rate 0.446700507614"
       ]
      },
      {
       "output_type": "stream",
       "stream": "stdout",
       "text": [
        "\n",
        "poly error rate 0.419627749577"
       ]
      },
      {
       "output_type": "stream",
       "stream": "stdout",
       "text": [
        "\n",
        "poly error rate 0.446700507614"
       ]
      },
      {
       "output_type": "stream",
       "stream": "stdout",
       "text": [
        "\n"
       ]
      }
     ],
     "prompt_number": 176
    },
    {
     "cell_type": "code",
     "collapsed": false,
     "input": [
      "clf = svm.SVC(kernel='rbf', degree=3,gamma=6)\n",
      "clf.fit(train_df.ix[:,columns],train_df['Survived'])\n",
      "y_pred = clf.predict(test_df.ix[:,columns])\n",
      "test_df[\"Survived\"] = pd.Series(y_pred)"
     ],
     "language": "python",
     "metadata": {},
     "outputs": [],
     "prompt_number": 14
    },
    {
     "cell_type": "code",
     "collapsed": false,
     "input": [
      "test_df.ix[:,['PassengerId', 'Survived']].head()"
     ],
     "language": "python",
     "metadata": {},
     "outputs": [
      {
       "output_type": "stream",
       "stream": "stderr",
       "text": [
        "/usr/local/lib/python2.7/dist-packages/pandas/core/config.py:570: DeprecationWarning: height has been deprecated.\n",
        "\n",
        "  warnings.warn(d.msg, DeprecationWarning)\n",
        "/usr/local/lib/python2.7/dist-packages/pandas/core/config.py:570: DeprecationWarning: height has been deprecated.\n",
        "\n",
        "  warnings.warn(d.msg, DeprecationWarning)\n"
       ]
      },
      {
       "html": [
        "<div style=\"max-height:1000px;max-width:1500px;overflow:auto;\">\n",
        "<table border=\"1\" class=\"dataframe\">\n",
        "  <thead>\n",
        "    <tr style=\"text-align: right;\">\n",
        "      <th></th>\n",
        "      <th>PassengerId</th>\n",
        "      <th>Survived</th>\n",
        "    </tr>\n",
        "  </thead>\n",
        "  <tbody>\n",
        "    <tr>\n",
        "      <th>0</th>\n",
        "      <td> 0</td>\n",
        "      <td> 0</td>\n",
        "    </tr>\n",
        "    <tr>\n",
        "      <th>1</th>\n",
        "      <td> 0</td>\n",
        "      <td> 0</td>\n",
        "    </tr>\n",
        "    <tr>\n",
        "      <th>2</th>\n",
        "      <td> 0</td>\n",
        "      <td> 0</td>\n",
        "    </tr>\n",
        "    <tr>\n",
        "      <th>3</th>\n",
        "      <td> 0</td>\n",
        "      <td> 0</td>\n",
        "    </tr>\n",
        "    <tr>\n",
        "      <th>4</th>\n",
        "      <td> 0</td>\n",
        "      <td> 1</td>\n",
        "    </tr>\n",
        "  </tbody>\n",
        "</table>\n",
        "</div>"
       ],
       "metadata": {},
       "output_type": "pyout",
       "prompt_number": 16,
       "text": [
        "   PassengerId  Survived\n",
        "0            0         0\n",
        "1            0         0\n",
        "2            0         0\n",
        "3            0         0\n",
        "4            0         1"
       ]
      }
     ],
     "prompt_number": 16
    },
    {
     "cell_type": "code",
     "collapsed": false,
     "input": [
      "test_df.to_csv(\"foo.csv\", cols=['PassengerId', 'Survived'], index=False)"
     ],
     "language": "python",
     "metadata": {},
     "outputs": [],
     "prompt_number": 18
    },
    {
     "cell_type": "code",
     "collapsed": false,
     "input": [],
     "language": "python",
     "metadata": {},
     "outputs": []
    }
   ],
   "metadata": {}
  }
 ]
}